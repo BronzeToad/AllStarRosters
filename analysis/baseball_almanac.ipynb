{
 "cells": [
  {
   "cell_type": "code",
   "execution_count": 2,
   "metadata": {
    "collapsed": true
   },
   "outputs": [
    {
     "name": "stdout",
     "output_type": "stream",
     "text": [
      "Invoking __init__.py for helpers\n"
     ]
    }
   ],
   "source": [
    "from helpers.downloader import Downloader\n",
    "from helpers.environment_helper import EnvHelper, EnvFile\n",
    "import os"
   ]
  },
  {
   "cell_type": "code",
   "execution_count": 7,
   "outputs": [],
   "source": [
    "url = 'https://raw.githubusercontent.com/BronzeToad/all-star-rosters/main/data/baseball_almanac/all_star_game_tv_stats.csv'\n",
    "\n",
    "ROOT_DIR = EnvHelper(EnvFile.PYTHON).get_env_value('PYTHONPATH')\n",
    "DATA_DIR = os.path.join(ROOT_DIR, 'data', 'baseball-almanac')"
   ],
   "metadata": {
    "collapsed": false
   }
  },
  {
   "cell_type": "code",
   "execution_count": 8,
   "outputs": [
    {
     "name": "stdout",
     "output_type": "stream",
     "text": [
      "\n",
      "--------------------\n",
      "Filename : all_star_game_tv_stats.csv\n",
      "URL : https://raw.githubusercontent.com/BronzeToad/all-star-rosters/main/data/baseball_almanac/all_star_game_tv_stats.csv\n",
      "Status good? : True\n",
      "Content saved? : True\n"
     ]
    },
    {
     "data": {
      "text/plain": "True"
     },
     "execution_count": 8,
     "metadata": {},
     "output_type": "execute_result"
    }
   ],
   "source": [
    "Downloader.download(url=url, save_dir=DATA_DIR)"
   ],
   "metadata": {
    "collapsed": false
   }
  },
  {
   "cell_type": "code",
   "execution_count": null,
   "outputs": [],
   "source": [],
   "metadata": {
    "collapsed": false
   }
  }
 ],
 "metadata": {
  "kernelspec": {
   "display_name": "Python 3",
   "language": "python",
   "name": "python3"
  },
  "language_info": {
   "codemirror_mode": {
    "name": "ipython",
    "version": 2
   },
   "file_extension": ".py",
   "mimetype": "text/x-python",
   "name": "python",
   "nbconvert_exporter": "python",
   "pygments_lexer": "ipython2",
   "version": "2.7.6"
  }
 },
 "nbformat": 4,
 "nbformat_minor": 0
}
