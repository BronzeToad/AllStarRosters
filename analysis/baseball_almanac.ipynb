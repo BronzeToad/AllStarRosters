{
 "cells": [
  {
   "cell_type": "markdown",
   "source": [
    "# MLB All-Star Game Television Viewership Analysis"
   ],
   "metadata": {
    "collapsed": false
   }
  },
  {
   "cell_type": "markdown",
   "source": [
    "Source: https://www.baseball-almanac.com/asgbox/asgtv.shtml"
   ],
   "metadata": {
    "collapsed": false
   }
  },
  {
   "cell_type": "code",
   "execution_count": 1,
   "metadata": {
    "collapsed": true
   },
   "outputs": [
    {
     "name": "stdout",
     "output_type": "stream",
     "text": [
      "Invoking __init__.py for models\n"
     ]
    }
   ],
   "source": [
    "# import packages\n",
    "import os\n",
    "\n",
    "import pandas as pd\n",
    "\n",
    "import helpers.dataframe_utils as dfUtils\n",
    "import helpers.toad_utils as ToadUtils\n",
    "from models.baseball_almanac import BaseballAlmanac\n",
    "from helpers.download_helper import DownloadHelper\n",
    "from models.baseball_almanac import MovingRangeCalc"
   ]
  },
  {
   "cell_type": "code",
   "execution_count": 2,
   "outputs": [
    {
     "name": "stdout",
     "output_type": "stream",
     "text": [
      "https://github.com/BronzeToad/AllStarRosters/blob/87d0391b48e4a05b3cd1e3bcf7f000e62623ede8/data/baseball-almanac/all_star_game_tv_stats.csv\n",
      "/Users/ajp/Documents/Projects/AllStarRosters/data/baseball-almanac\n"
     ]
    }
   ],
   "source": [
    "# initialize model\n",
    "\n",
    "Model = BaseballAlmanac()\n",
    "\n",
    "print(Model.download_url)\n",
    "print(Model.data_dir)"
   ],
   "metadata": {
    "collapsed": false
   }
  },
  {
   "cell_type": "code",
   "execution_count": null,
   "outputs": [],
   "source": [
    "# download viewership data\n",
    "\n",
    "Model.download()##"
   ],
   "metadata": {
    "collapsed": false
   }
  },
  {
   "cell_type": "code",
   "execution_count": null,
   "outputs": [],
   "source": [
    "    \"xxx\": \"xxx\",\n",
    "    \"xxx\": \"xxx\",\n",
    "    \"xxx\": \"xxx\",\n",
    "    \"xxx\": \"xxx\",\n",
    "    \"xxx\": \"xxx\",\n",
    "    \"xxx\": \"xxx\",\n",
    "    \"xxx\": \"xxx\",\n",
    "    \"xxx\": \"xxx\",\n",
    "    \"xxx\": \"xxx\",\n",
    "    \"xxx\": \"xxx\",\n",
    "    \"xxx\": \"xxx\",\n",
    "    \"xxx\": \"xxx\",\n",
    "    \"xxx\": \"xxx\",\n",
    "    \"xxx\": \"xxx\",\n",
    "    \"xxx\": \"xxx\",\n",
    "    \"xxx\": \"xxx\",\n",
    "    \"xxx\": \"xxx\",\n",
    "    \"xxx\": \"xxx\",\n",
    "    \"xxx\": \"xxx\",\n",
    "    \"xxx\": \"xxx\""
   ],
   "metadata": {
    "collapsed": false
   }
  },
  {
   "cell_type": "code",
   "execution_count": null,
   "outputs": [],
   "source": [
    "# create tv viewership dataframe\n",
    "\n",
    "df = ToadUtils.get_csv(\n",
    "        folder=Model.data_dir,\n",
    "        filename=ToadUtils.get_filename_from_url(Model.download_url)\n",
    ")"
   ],
   "metadata": {
    "collapsed": false
   }
  },
  {
   "cell_type": "code",
   "execution_count": null,
   "outputs": [],
   "source": [
    "# update column names\n",
    "\n",
    "new_col_names = {\n",
    "    'Year | ASG': 'Year',\n",
    "    'Households': 'HouseholdViewers'\n",
    "}\n",
    "\n",
    "df.rename(columns=new_col_names, inplace=True)\n",
    "print(df.columns)"
   ],
   "metadata": {
    "collapsed": false
   }
  },
  {
   "cell_type": "code",
   "execution_count": null,
   "outputs": [],
   "source": [
    "# remove unneeded columns\n",
    "\n",
    "df = dfUtils.drop(dataframe=df, columns=['Network', 'Viewers'])\n",
    "print(df.dtypes)"
   ],
   "metadata": {
    "collapsed": false
   }
  },
  {
   "cell_type": "code",
   "execution_count": null,
   "outputs": [],
   "source": [
    "# update data types\n",
    "\n",
    "df['HouseholdViewers'] = pd.to_numeric(df['HouseholdViewers'].str.replace(',', ''))\n",
    "print(df.dtypes)"
   ],
   "metadata": {
    "collapsed": false
   }
  },
  {
   "cell_type": "code",
   "execution_count": null,
   "outputs": [],
   "source": [
    "# get date range for moving averages\n",
    "\n",
    "min_years = Model.get_moving_range(dataframe=df,\n",
    "                                   column='Year',\n",
    "                                   calculation=MovingRangeCalc.MIN)\n",
    "\n",
    "max_years = Model.get_moving_range(dataframe=df,\n",
    "                                   column='Year',\n",
    "                                   calculation=MovingRangeCalc.MAX)\n",
    "\n",
    "min_max_years = []\n",
    "for minn, maxx in zip(min_years, max_years):\n",
    "    min_max_years.append(f'{minn}-{maxx}')\n",
    "\n",
    "print(min_max_years)"
   ],
   "metadata": {
    "collapsed": false
   }
  },
  {
   "cell_type": "code",
   "execution_count": null,
   "outputs": [],
   "source": [
    "# get moving average for df metrics\n",
    "\n",
    "moving_avg_rating = Model.get_moving_range(dataframe=df,\n",
    "                                           column='Rating',\n",
    "                                           calculation=MovingRangeCalc.MEAN)\n",
    "\n",
    "moving_avg_share = Model.get_moving_range(dataframe=df,\n",
    "                                           column='Share',\n",
    "                                           calculation=MovingRangeCalc.MEAN)\n",
    "\n",
    "moving_avg_viewers = Model.get_moving_range(dataframe=df,\n",
    "                                           column='HouseholdViewers',\n",
    "                                           calculation=MovingRangeCalc.MEAN)\n",
    "\n",
    "print(f'{moving_avg_rating}\\n\\n{moving_avg_share}\\n\\n{moving_avg_viewers}')"
   ],
   "metadata": {
    "collapsed": false
   }
  },
  {
   "cell_type": "code",
   "execution_count": null,
   "outputs": [],
   "source": [
    "# create dictionary with first and last records\n",
    "data = {\n",
    "    'Years': Model.get_first_last(min_max_years),\n",
    "    'AvgRating': Model.get_first_last(moving_avg_rating),\n",
    "    'RatingDelta': Model.get_percent_change(moving_avg_rating),\n",
    "    'AvgShare': Model.get_first_last(moving_avg_share),\n",
    "    'ShareDelta': Model.get_percent_change(moving_avg_share),\n",
    "    'AvgHouseholdViewers': Model.get_first_last(moving_avg_viewers),\n",
    "    'ViewersDelta': Model.get_percent_change(moving_avg_viewers)\n",
    "}\n",
    "\n",
    "for key, val in data.items():\n",
    "    print(f'{key}: {val}')"
   ],
   "metadata": {
    "collapsed": false
   }
  },
  {
   "cell_type": "code",
   "execution_count": null,
   "outputs": [],
   "source": [
    "# create dataframe with first and last records\n",
    "\n",
    "compare_first_last = pd.DataFrame(data)\n",
    "display(compare_first_last)"
   ],
   "metadata": {
    "collapsed": false
   }
  },
  {
   "cell_type": "markdown",
   "source": [
    "After reviewing television viewing data from MLB All-Star games we observe a massive decrease in viewership. From the first time period in this dataset (1967-1976) to the most recent available time period (2012-2022); the average rating for All-Star games dropped by 79%, the average share of the viewership market decreased by 77%, and the number of average household viewers fell by 52%."
   ],
   "metadata": {
    "collapsed": false
   }
  }
 ],
 "metadata": {
  "kernelspec": {
   "display_name": "Python 3",
   "language": "python",
   "name": "python3"
  },
  "language_info": {
   "codemirror_mode": {
    "name": "ipython",
    "version": 2
   },
   "file_extension": ".py",
   "mimetype": "text/x-python",
   "name": "python",
   "nbconvert_exporter": "python",
   "pygments_lexer": "ipython2",
   "version": "2.7.6"
  }
 },
 "nbformat": 4,
 "nbformat_minor": 0
}
