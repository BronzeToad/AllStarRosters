{
 "cells": [
  {
   "cell_type": "markdown",
   "source": [
    "# MLB All-Star Game Television Viewership Analysis"
   ],
   "metadata": {
    "collapsed": false
   }
  },
  {
   "cell_type": "markdown",
   "source": [
    "Source: https://www.baseball-almanac.com/asgbox/asgtv.shtml"
   ],
   "metadata": {
    "collapsed": false
   }
  },
  {
   "cell_type": "code",
   "execution_count": 1,
   "metadata": {
    "collapsed": true
   },
   "outputs": [
    {
     "name": "stdout",
     "output_type": "stream",
     "text": [
      "Invoking __init__.py for models\n"
     ]
    }
   ],
   "source": [
    "# import packages\n",
    "import os\n",
    "\n",
    "import pandas as pd\n",
    "\n",
    "import helpers.dataframe_utils as DataUtils\n",
    "import helpers.toad_utils as ToadUtils\n",
    "import models.baseball_almanac as Model\n",
    "from helpers.download_helper import DownloadHelper\n",
    "from models.baseball_almanac import MovingRangeCalc"
   ]
  },
  {
   "cell_type": "code",
   "execution_count": 2,
   "outputs": [
    {
     "name": "stdout",
     "output_type": "stream",
     "text": [
      "URL: https://raw.githubusercontent.com/BronzeToad/AllStarRosters/1.2.1/data/baseball-almanac/all_star_game_tv_stats.csv\n",
      "DATA_DIR: /Users/ajp/Documents/Projects/AllStarRosters/data/baseball-almanac\n"
     ]
    }
   ],
   "source": [
    "# set variables\n",
    "\n",
    "blob = '87d0391b48e4a05b3cd1e3bcf7f000e62623ede8'\n",
    "url = f'https://github.com/BronzeToad/AllStarRosters/blob/{blob}/data/baseball-almanac/all_star_game_tv_stats.csv'\n",
    "data_dir = os.path.join(Model.ROOT_DIR, 'data', 'baseball-almanac')\n",
    "\n",
    "print(f'URL: {url}\\n'\n",
    "      f'DATA_DIR: {data_dir}')"
   ],
   "metadata": {
    "collapsed": false
   }
  },
  {
   "cell_type": "code",
   "execution_count": 3,
   "outputs": [
    {
     "name": "stdout",
     "output_type": "stream",
     "text": [
      "Filename all_star_game_tv_stats.csv saved successfully to /Users/ajp/Documents/Projects/AllStarRosters/data/baseball-almanac.\n",
      "Content from https://raw.githubusercontent.com/BronzeToad/AllStarRosters/1.2.1/data/baseball-almanac/all_star_game_tv_stats.csv downloaded successfully.\n"
     ]
    }
   ],
   "source": [
    "# download viewership data\n",
    "\n",
    "DownloadHelper(url=url, save_dir=data_dir).download()"
   ],
   "metadata": {
    "collapsed": false
   }
  },
  {
   "cell_type": "code",
   "execution_count": 4,
   "outputs": [
    {
     "name": "stdout",
     "output_type": "stream",
     "text": [
      "Dataframe rows: 55, Dataframe columns: 6\n"
     ]
    }
   ],
   "source": [
    "# create tv viewership dataframe\n",
    "\n",
    "df = ToadUtils.get_csv(folder=data_dir, filename=ToadUtils.get_filename_from_url(url))"
   ],
   "metadata": {
    "collapsed": false
   }
  },
  {
   "cell_type": "code",
   "execution_count": 6,
   "outputs": [
    {
     "name": "stdout",
     "output_type": "stream",
     "text": [
      "Index(['Year', 'Network', 'Rating', 'Share', 'HouseholdViewers', 'Viewers'], dtype='object')\n"
     ]
    }
   ],
   "source": [
    "# update column names\n",
    "\n",
    "new_col_names = {\n",
    "    'Year | ASG': 'Year',\n",
    "    'Households': 'HouseholdViewers'\n",
    "}\n",
    "\n",
    "df.rename(columns=new_col_names, inplace=True)\n",
    "print(df.columns)"
   ],
   "metadata": {
    "collapsed": false
   }
  },
  {
   "cell_type": "code",
   "execution_count": 7,
   "outputs": [
    {
     "name": "stdout",
     "output_type": "stream",
     "text": [
      "Year                  int64\n",
      "Rating              float64\n",
      "Share                 int64\n",
      "HouseholdViewers     object\n",
      "dtype: object\n"
     ]
    }
   ],
   "source": [
    "# remove unneeded columns\n",
    "\n",
    "df = DataUtils.drop(dataframe=df, columns=['Network', 'Viewers'])\n",
    "print(df.dtypes)"
   ],
   "metadata": {
    "collapsed": false
   }
  },
  {
   "cell_type": "code",
   "execution_count": 8,
   "outputs": [
    {
     "name": "stdout",
     "output_type": "stream",
     "text": [
      "Year                  int64\n",
      "Rating              float64\n",
      "Share                 int64\n",
      "HouseholdViewers      int64\n",
      "dtype: object\n"
     ]
    }
   ],
   "source": [
    "# update data types\n",
    "\n",
    "df['HouseholdViewers'] = pd.to_numeric(df['HouseholdViewers'].str.replace(',', ''))\n",
    "print(df.dtypes)"
   ],
   "metadata": {
    "collapsed": false
   }
  },
  {
   "cell_type": "code",
   "execution_count": 10,
   "outputs": [
    {
     "name": "stdout",
     "output_type": "stream",
     "text": [
      "['1967-1976', '1968-1977', '1969-1978', '1970-1979', '1971-1980', '1972-1981', '1973-1982', '1974-1983', '1975-1984', '1976-1985', '1977-1986', '1978-1987', '1979-1988', '1980-1989', '1981-1990', '1982-1991', '1983-1992', '1984-1993', '1985-1994', '1986-1995', '1987-1996', '1988-1997', '1989-1998', '1990-1999', '1991-2000', '1992-2001', '1993-2002', '1994-2003', '1995-2004', '1996-2005', '1997-2006', '1998-2007', '1999-2008', '2000-2009', '2001-2010', '2002-2011', '2003-2012', '2004-2013', '2005-2014', '2006-2015', '2007-2016', '2008-2017', '2009-2018', '2010-2019', '2011-2021', '2012-2022']\n"
     ]
    }
   ],
   "source": [
    "# get date range for moving averages\n",
    "\n",
    "min_years = Model.get_moving_range(dataframe=df,\n",
    "                                   column='Year',\n",
    "                                   calculation=MovingRangeCalc.MIN)\n",
    "\n",
    "max_years = Model.get_moving_range(dataframe=df,\n",
    "                                   column='Year',\n",
    "                                   calculation=MovingRangeCalc.MAX)\n",
    "\n",
    "min_max_years = []\n",
    "for minn, maxx in zip(min_years, max_years):\n",
    "    min_max_years.append(f'{minn}-{maxx}')\n",
    "\n",
    "print(min_max_years)"
   ],
   "metadata": {
    "collapsed": false
   }
  },
  {
   "cell_type": "code",
   "execution_count": 14,
   "outputs": [
    {
     "name": "stdout",
     "output_type": "stream",
     "text": [
      "[24, 23, 23, 24, 24, 24, 24, 24, 23, 23, 22, 22, 21, 21, 20, 19, 18, 18, 17, 17, 16, 15, 15, 14, 13, 13, 12, 12, 11, 10, 10, 10, 9, 9, 9, 8, 8, 8, 7, 7, 7, 7, 6, 6, 5, 5]\n",
      "\n",
      "[47, 46, 46, 46, 45, 44, 44, 44, 43, 42, 40, 40, 38, 37, 36, 35, 34, 32, 32, 31, 29, 28, 27, 26, 24, 23, 22, 21, 20, 19, 18, 17, 16, 16, 15, 15, 14, 14, 13, 13, 13, 12, 11, 11, 11, 11]\n",
      "\n",
      "[14855000, 15194000, 15652000, 16609000, 16987000, 16928000, 17544000, 17793000, 17928000, 18195000, 18071000, 17918000, 17822000, 17649000, 17098000, 17154000, 16488000, 16152000, 15947000, 15533000, 15058000, 14609000, 14104600, 13648600, 13171300, 12671100, 12303700, 11864300, 11342600, 10905000, 10666100, 10458400, 10199900, 10086323, 9938873, 9590273, 9260045, 8995545, 9050545, 9074845, 8642845, 8439745, 8039645, 7557222, 7323772, 7172572]\n"
     ]
    }
   ],
   "source": [
    "# get moving average for df metrics\n",
    "\n",
    "moving_avg_rating = Model.get_moving_range(dataframe=df,\n",
    "                                           column='Rating',\n",
    "                                           calculation=MovingRangeCalc.MEAN)\n",
    "\n",
    "moving_avg_share = Model.get_moving_range(dataframe=df,\n",
    "                                           column='Share',\n",
    "                                           calculation=MovingRangeCalc.MEAN)\n",
    "\n",
    "moving_avg_viewers = Model.get_moving_range(dataframe=df,\n",
    "                                           column='HouseholdViewers',\n",
    "                                           calculation=MovingRangeCalc.MEAN)\n",
    "\n",
    "print(f'{moving_avg_rating}\\n\\n{moving_avg_share}\\n\\n{moving_avg_viewers}')"
   ],
   "metadata": {
    "collapsed": false
   }
  },
  {
   "cell_type": "code",
   "execution_count": 15,
   "outputs": [
    {
     "name": "stdout",
     "output_type": "stream",
     "text": [
      "Years: ['1967-1976', '2012-2022']\n",
      "AvgRating: [24, 5]\n",
      "RatingDelta: [nan, 0.79]\n",
      "AvgShare: [47, 11]\n",
      "ShareDelta: [nan, 0.77]\n",
      "AvgHouseholdViewers: [14855000, 7172572]\n",
      "ViewersDelta: [nan, 0.52]\n"
     ]
    }
   ],
   "source": [
    "# create dictionary with first and last records\n",
    "data = {\n",
    "    'Years': Model.get_first_last(min_max_years),\n",
    "    'AvgRating': Model.get_first_last(moving_avg_rating),\n",
    "    'RatingDelta': Model.get_percent_change(moving_avg_rating),\n",
    "    'AvgShare': Model.get_first_last(moving_avg_share),\n",
    "    'ShareDelta': Model.get_percent_change(moving_avg_share),\n",
    "    'AvgHouseholdViewers': Model.get_first_last(moving_avg_viewers),\n",
    "    'ViewersDelta': Model.get_percent_change(moving_avg_viewers)\n",
    "}\n",
    "\n",
    "for key, val in data.items():\n",
    "    print(f'{key}: {val}')"
   ],
   "metadata": {
    "collapsed": false
   }
  },
  {
   "cell_type": "code",
   "execution_count": 16,
   "outputs": [
    {
     "data": {
      "text/plain": "       Years  AvgRating  RatingDelta  AvgShare  ShareDelta  \\\n0  1967-1976         24          NaN        47         NaN   \n1  2012-2022          5         0.79        11        0.77   \n\n   AvgHouseholdViewers  ViewersDelta  \n0             14855000           NaN  \n1              7172572          0.52  ",
      "text/html": "<div>\n<style scoped>\n    .dataframe tbody tr th:only-of-type {\n        vertical-align: middle;\n    }\n\n    .dataframe tbody tr th {\n        vertical-align: top;\n    }\n\n    .dataframe thead th {\n        text-align: right;\n    }\n</style>\n<table border=\"1\" class=\"dataframe\">\n  <thead>\n    <tr style=\"text-align: right;\">\n      <th></th>\n      <th>Years</th>\n      <th>AvgRating</th>\n      <th>RatingDelta</th>\n      <th>AvgShare</th>\n      <th>ShareDelta</th>\n      <th>AvgHouseholdViewers</th>\n      <th>ViewersDelta</th>\n    </tr>\n  </thead>\n  <tbody>\n    <tr>\n      <th>0</th>\n      <td>1967-1976</td>\n      <td>24</td>\n      <td>NaN</td>\n      <td>47</td>\n      <td>NaN</td>\n      <td>14855000</td>\n      <td>NaN</td>\n    </tr>\n    <tr>\n      <th>1</th>\n      <td>2012-2022</td>\n      <td>5</td>\n      <td>0.79</td>\n      <td>11</td>\n      <td>0.77</td>\n      <td>7172572</td>\n      <td>0.52</td>\n    </tr>\n  </tbody>\n</table>\n</div>"
     },
     "metadata": {},
     "output_type": "display_data"
    }
   ],
   "source": [
    "# create dataframe with first and last records\n",
    "\n",
    "compare_first_last = pd.DataFrame(data)\n",
    "display(compare_first_last)"
   ],
   "metadata": {
    "collapsed": false
   }
  },
  {
   "cell_type": "markdown",
   "source": [
    "After reviewing television viewing data from MLB All-Star games we observe a massive decrease in viewership. From the first time period in this dataset (1967-1976) to the most recent available time period (2012-2022); the average rating for All-Star games dropped by 79%, the average share of the viewership market decreased by 77%, and the number of average household viewers fell by 52%."
   ],
   "metadata": {
    "collapsed": false
   }
  }
 ],
 "metadata": {
  "kernelspec": {
   "display_name": "Python 3",
   "language": "python",
   "name": "python3"
  },
  "language_info": {
   "codemirror_mode": {
    "name": "ipython",
    "version": 2
   },
   "file_extension": ".py",
   "mimetype": "text/x-python",
   "name": "python",
   "nbconvert_exporter": "python",
   "pygments_lexer": "ipython2",
   "version": "2.7.6"
  }
 },
 "nbformat": 4,
 "nbformat_minor": 0
}
