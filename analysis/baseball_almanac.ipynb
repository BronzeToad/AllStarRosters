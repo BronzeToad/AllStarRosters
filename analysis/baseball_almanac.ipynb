{
 "cells": [
  {
   "cell_type": "markdown",
   "source": [
    "# MLB All-Star Game Television Viewership Analysis"
   ],
   "metadata": {
    "collapsed": false
   }
  },
  {
   "cell_type": "markdown",
   "source": [
    "Source: https://www.baseball-almanac.com/asgbox/asgtv.shtml"
   ],
   "metadata": {
    "collapsed": false
   }
  },
  {
   "cell_type": "code",
   "execution_count": 1,
   "metadata": {
    "collapsed": true
   },
   "outputs": [
    {
     "name": "stdout",
     "output_type": "stream",
     "text": [
      "Invoking __init__.py for helpers\n"
     ]
    }
   ],
   "source": [
    "# import packages\n",
    "import os\n",
    "\n",
    "import pandas as pd\n",
    "\n",
    "import helpers.dataframe_helper as DataHelper\n",
    "import helpers.utilities as ToadUtils\n",
    "import models.baseball_almanac as Model\n",
    "from helpers.downloader import Downloader\n",
    "from models.baseball_almanac import MovingRangeCalc"
   ]
  },
  {
   "cell_type": "code",
   "execution_count": 2,
   "outputs": [
    {
     "name": "stdout",
     "output_type": "stream",
     "text": [
      "URL: https://raw.githubusercontent.com/BronzeToad/AllStarRosters/1.2.1/data/baseball-almanac/all_star_game_tv_stats.csv\n",
      "DATA_DIR: /Users/ajp/Documents/Projects/AllStarRosters/data/baseball-almanac\n"
     ]
    }
   ],
   "source": [
    "# set variables\n",
    "\n",
    "URL = 'https://raw.githubusercontent.com/BronzeToad/AllStarRosters/1.2.1/data/baseball-almanac/all_star_game_tv_stats.csv'\n",
    "DATA_DIR = os.path.join(Model.ROOT_DIR, 'data', 'baseball-almanac')\n",
    "\n",
    "print(f'URL: {URL}\\n'\n",
    "      f'DATA_DIR: {DATA_DIR}')"
   ],
   "metadata": {
    "collapsed": false
   }
  },
  {
   "cell_type": "code",
   "execution_count": 3,
   "outputs": [
    {
     "name": "stdout",
     "output_type": "stream",
     "text": [
      "\n",
      "--------------------\n",
      "Filename : all_star_game_tv_stats.csv\n",
      "URL : https://raw.githubusercontent.com/BronzeToad/AllStarRosters/1.2.1/data/baseball-almanac/all_star_game_tv_stats.csv\n",
      "Status good? : True\n",
      "Content saved? : True\n"
     ]
    },
    {
     "data": {
      "text/plain": "True"
     },
     "execution_count": 3,
     "metadata": {},
     "output_type": "execute_result"
    }
   ],
   "source": [
    "# download viewership data\n",
    "\n",
    "Downloader.download(url=URL, save_dir=DATA_DIR)"
   ],
   "metadata": {
    "collapsed": false
   }
  },
  {
   "cell_type": "code",
   "execution_count": 4,
   "outputs": [
    {
     "name": "stdout",
     "output_type": "stream",
     "text": [
      "Dataframe rows: 55, Dataframe columns: 6\n"
     ]
    }
   ],
   "source": [
    "# create tv viewership dataframe\n",
    "\n",
    "df = ToadUtils.get_csv(folder=DATA_DIR, filename=ToadUtils.get_filename_from_url(URL))"
   ],
   "metadata": {
    "collapsed": false
   }
  },
  {
   "cell_type": "code",
   "execution_count": 5,
   "outputs": [
    {
     "name": "stdout",
     "output_type": "stream",
     "text": [
      "\n",
      "Printing list...\n",
      "Year\n",
      "Network\n",
      "Rating\n",
      "Share\n",
      "HouseholdViewers\n",
      "Viewers\n"
     ]
    }
   ],
   "source": [
    "# update column names\n",
    "\n",
    "new_col_names = {\n",
    "    'Year | ASG': 'Year',\n",
    "    'Households': 'HouseholdViewers'\n",
    "}\n",
    "\n",
    "df.rename(columns=new_col_names, inplace=True)\n",
    "ToadUtils.prant(list(df.columns))"
   ],
   "metadata": {
    "collapsed": false
   }
  },
  {
   "cell_type": "code",
   "execution_count": 6,
   "outputs": [
    {
     "name": "stdout",
     "output_type": "stream",
     "text": [
      "Year                  int64\n",
      "Rating              float64\n",
      "Share                 int64\n",
      "HouseholdViewers     object\n",
      "dtype: object\n"
     ]
    }
   ],
   "source": [
    "# remove unneeded columns\n",
    "\n",
    "df = DataHelper.drop(dataframe=df, columns=['Network', 'Viewers'])\n",
    "print(df.dtypes)"
   ],
   "metadata": {
    "collapsed": false
   }
  },
  {
   "cell_type": "code",
   "execution_count": 7,
   "outputs": [
    {
     "name": "stdout",
     "output_type": "stream",
     "text": [
      "Year                  int64\n",
      "Rating              float64\n",
      "Share                 int64\n",
      "HouseholdViewers      int64\n",
      "dtype: object\n"
     ]
    }
   ],
   "source": [
    "# update data types\n",
    "\n",
    "df['HouseholdViewers'] = pd.to_numeric(df['HouseholdViewers'].str.replace(',', ''))\n",
    "print(df.dtypes)"
   ],
   "metadata": {
    "collapsed": false
   }
  },
  {
   "cell_type": "code",
   "execution_count": 10,
   "outputs": [],
   "source": [
    "# get date range for moving averages\n",
    "\n",
    "min_years = Model.get_moving_range(dataframe=df,\n",
    "                                   column='Year',\n",
    "                                   calculation=MovingRangeCalc.MIN)\n",
    "\n",
    "max_years = Model.get_moving_range(dataframe=df,\n",
    "                                   column='Year',\n",
    "                                   calculation=MovingRangeCalc.MAX)\n",
    "\n",
    "min_max_years = []\n",
    "for minn, maxx in zip(min_years, max_years):\n",
    "    min_max_years.append(f'{minn}-{maxx}')"
   ],
   "metadata": {
    "collapsed": false
   }
  },
  {
   "cell_type": "code",
   "execution_count": 11,
   "outputs": [],
   "source": [
    "# get moving average for df metrics\n",
    "\n",
    "moving_avg_rating = Model.get_moving_range(dataframe=df,\n",
    "                                           column='Rating',\n",
    "                                           calculation=MovingRangeCalc.MEAN)\n",
    "\n",
    "moving_avg_share = Model.get_moving_range(dataframe=df,\n",
    "                                           column='Share',\n",
    "                                           calculation=MovingRangeCalc.MEAN)\n",
    "\n",
    "moving_avg_viewers = Model.get_moving_range(dataframe=df,\n",
    "                                           column='HouseholdViewers',\n",
    "                                           calculation=MovingRangeCalc.MEAN)"
   ],
   "metadata": {
    "collapsed": false
   }
  },
  {
   "cell_type": "code",
   "execution_count": 18,
   "outputs": [
    {
     "name": "stdout",
     "output_type": "stream",
     "text": [
      "\n",
      "Printing dictionary...\n",
      "Years: ['1967-1976', '2012-2022']\n",
      "AvgRating: [24, 5]\n",
      "RatingDelta: [nan, 0.79]\n",
      "AvgShare: [47, 11]\n",
      "ShareDelta: [nan, 0.77]\n",
      "AvgHouseholdViewers: [14855000, 7172572]\n",
      "ViewersDelta: [nan, 0.52]\n"
     ]
    }
   ],
   "source": [
    "# create dictionary with first and last records\n",
    "data = {\n",
    "    'Years': Model.get_first_last(min_max_years),\n",
    "    'AvgRating': Model.get_first_last(moving_avg_rating),\n",
    "    'RatingDelta': Model.get_percent_change(moving_avg_rating),\n",
    "    'AvgShare': Model.get_first_last(moving_avg_share),\n",
    "    'ShareDelta': Model.get_percent_change(moving_avg_share),\n",
    "    'AvgHouseholdViewers': Model.get_first_last(moving_avg_viewers),\n",
    "    'ViewersDelta': Model.get_percent_change(moving_avg_viewers)\n",
    "}\n",
    "\n",
    "ToadUtils.prant(data)"
   ],
   "metadata": {
    "collapsed": false
   }
  },
  {
   "cell_type": "code",
   "execution_count": 19,
   "outputs": [
    {
     "data": {
      "text/plain": "       Years  AvgRating  RatingDelta  AvgShare  ShareDelta  \\\n0  1967-1976         24          NaN        47         NaN   \n1  2012-2022          5         0.79        11        0.77   \n\n   AvgHouseholdViewers  ViewersDelta  \n0             14855000           NaN  \n1              7172572          0.52  ",
      "text/html": "<div>\n<style scoped>\n    .dataframe tbody tr th:only-of-type {\n        vertical-align: middle;\n    }\n\n    .dataframe tbody tr th {\n        vertical-align: top;\n    }\n\n    .dataframe thead th {\n        text-align: right;\n    }\n</style>\n<table border=\"1\" class=\"dataframe\">\n  <thead>\n    <tr style=\"text-align: right;\">\n      <th></th>\n      <th>Years</th>\n      <th>AvgRating</th>\n      <th>RatingDelta</th>\n      <th>AvgShare</th>\n      <th>ShareDelta</th>\n      <th>AvgHouseholdViewers</th>\n      <th>ViewersDelta</th>\n    </tr>\n  </thead>\n  <tbody>\n    <tr>\n      <th>0</th>\n      <td>1967-1976</td>\n      <td>24</td>\n      <td>NaN</td>\n      <td>47</td>\n      <td>NaN</td>\n      <td>14855000</td>\n      <td>NaN</td>\n    </tr>\n    <tr>\n      <th>1</th>\n      <td>2012-2022</td>\n      <td>5</td>\n      <td>0.79</td>\n      <td>11</td>\n      <td>0.77</td>\n      <td>7172572</td>\n      <td>0.52</td>\n    </tr>\n  </tbody>\n</table>\n</div>"
     },
     "metadata": {},
     "output_type": "display_data"
    }
   ],
   "source": [
    "# create dataframe with first and last records\n",
    "\n",
    "compare_first_last = pd.DataFrame(data)\n",
    "display(compare_first_last)"
   ],
   "metadata": {
    "collapsed": false
   }
  },
  {
   "cell_type": "markdown",
   "source": [
    "After reviewing television viewing data from MLB All-Star games we observe a massive decrease in viewership. From the first time period in this dataset (1967-1976) to the most recent available time period (2012-2022); the average rating for All-Star games dropped by 76%, the average share of the viewership market decreased by 77%, and the number of average household viewers fell by 52%."
   ],
   "metadata": {
    "collapsed": false
   }
  },
  {
   "cell_type": "code",
   "execution_count": null,
   "outputs": [],
   "source": [],
   "metadata": {
    "collapsed": false
   }
  }
 ],
 "metadata": {
  "kernelspec": {
   "display_name": "Python 3",
   "language": "python",
   "name": "python3"
  },
  "language_info": {
   "codemirror_mode": {
    "name": "ipython",
    "version": 2
   },
   "file_extension": ".py",
   "mimetype": "text/x-python",
   "name": "python",
   "nbconvert_exporter": "python",
   "pygments_lexer": "ipython2",
   "version": "2.7.6"
  }
 },
 "nbformat": 4,
 "nbformat_minor": 0
}
