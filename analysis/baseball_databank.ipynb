{
 "cells": [
  {
   "cell_type": "markdown",
   "source": [
    "# MLB All-Star Roster Analysis"
   ],
   "metadata": {
    "collapsed": false
   }
  },
  {
   "cell_type": "markdown",
   "source": [
    "Source: https://www.seanlahman.com/baseball-archive/statistics"
   ],
   "metadata": {
    "collapsed": false
   }
  },
  {
   "cell_type": "code",
   "execution_count": 1,
   "outputs": [],
   "source": [
    "# import packages\n",
    "import os\n",
    "\n",
    "import pandas as pd\n",
    "\n",
    "from helpers.dataframe_utils import load_csv, update_headers\n",
    "from models.baseball_databank import BaseballDatabank"
   ],
   "metadata": {
    "collapsed": false
   }
  },
  {
   "cell_type": "code",
   "execution_count": 3,
   "outputs": [
    {
     "name": "stdout",
     "output_type": "stream",
     "text": [
      "https://raw.githubusercontent.com/chadwickbureau/baseballdatabank/master\n",
      "data/baseball-databank/raw\n"
     ]
    }
   ],
   "source": [
    "# initialize model\n",
    "\n",
    "Model = BaseballDatabank()\n",
    "\n",
    "print(Model.source_url)\n",
    "print(Model.save_dir)"
   ],
   "metadata": {
    "collapsed": false
   }
  },
  {
   "cell_type": "code",
   "execution_count": 4,
   "outputs": [
    {
     "name": "stdout",
     "output_type": "stream",
     "text": [
      "Filename AllstarFull.csv saved successfully to data/baseball-databank/raw.\n",
      "Filename Appearances.csv saved successfully to data/baseball-databank/raw.\n",
      "Filename AwardsManagers.csv saved successfully to data/baseball-databank/raw.\n",
      "Filename AwardsPlayers.csv saved successfully to data/baseball-databank/raw.\n",
      "Filename AwardsShareManagers.csv saved successfully to data/baseball-databank/raw.\n",
      "Filename AwardsSharePlayers.csv saved successfully to data/baseball-databank/raw.\n",
      "Filename Batting.csv saved successfully to data/baseball-databank/raw.\n",
      "Filename BattingPost.csv saved successfully to data/baseball-databank/raw.\n",
      "Filename CollegePlaying.csv saved successfully to data/baseball-databank/raw.\n",
      "Filename Fielding.csv saved successfully to data/baseball-databank/raw.\n",
      "Filename FieldingOF.csv saved successfully to data/baseball-databank/raw.\n",
      "Filename FieldingOFsplit.csv saved successfully to data/baseball-databank/raw.\n",
      "Filename FieldingPost.csv saved successfully to data/baseball-databank/raw.\n",
      "Filename HallOfFame.csv saved successfully to data/baseball-databank/raw.\n",
      "Filename HomeGames.csv saved successfully to data/baseball-databank/raw.\n",
      "Filename Managers.csv saved successfully to data/baseball-databank/raw.\n",
      "Filename ManagersHalf.csv saved successfully to data/baseball-databank/raw.\n",
      "Filename Parks.csv saved successfully to data/baseball-databank/raw.\n",
      "Filename People.csv saved successfully to data/baseball-databank/raw.\n",
      "Filename Pitching.csv saved successfully to data/baseball-databank/raw.\n",
      "Filename PitchingPost.csv saved successfully to data/baseball-databank/raw.\n",
      "Filename Salaries.csv saved successfully to data/baseball-databank/raw.\n",
      "Filename Schools.csv saved successfully to data/baseball-databank/raw.\n",
      "Filename SeriesPost.csv saved successfully to data/baseball-databank/raw.\n",
      "Filename Teams.csv saved successfully to data/baseball-databank/raw.\n",
      "Filename Teams.csv saved successfully to data/baseball-databank/raw.\n",
      "Filename TeamsFranchises.csv saved successfully to data/baseball-databank/raw.\n",
      "Filename TeamsHalf.csv saved successfully to data/baseball-databank/raw.\n"
     ]
    }
   ],
   "source": [
    "# download baseball databank data\n",
    "\n",
    "Model.download()"
   ],
   "metadata": {
    "collapsed": false
   }
  },
  {
   "cell_type": "code",
   "execution_count": null,
   "outputs": [],
   "source": [
    "# get base people dataframe\n",
    "\n",
    "dfPeople = pl.read_csv(os.path.join(Model.data_dir, 'raw', 'People.csv')).rename(Model.config_headers['People'])\n",
    "\n",
    "dfPeople.schema"
   ],
   "metadata": {
    "collapsed": false
   }
  },
  {
   "cell_type": "code",
   "execution_count": null,
   "outputs": [],
   "source": [
    "# fix column names\n",
    "\n",
    "dfPeople = dfPeople.rename(Model.config_headers['People'])\n",
    "dfPeople.schema"
   ],
   "metadata": {
    "collapsed": false
   }
  },
  {
   "cell_type": "code",
   "execution_count": null,
   "outputs": [],
   "source": [
    "# combine birth date columns\n",
    "\n",
    "birth_cols = ['birth_year', 'birth_month', 'birth_day']\n",
    "\n",
    "dfPeople = dfPeople.with_column((pl.date(\n",
    "        pl.col(birth_cols[0]),\n",
    "        pl.col(birth_cols[1]),\n",
    "        pl.col(birth_cols[2])\n",
    ")).alias('birth_date'))\n",
    "\n",
    "dfPeople = dfPeople.drop(birth_cols)\n",
    "\n",
    "dfPeople.head(25)"
   ],
   "metadata": {
    "collapsed": false
   }
  },
  {
   "cell_type": "code",
   "execution_count": null,
   "outputs": [],
   "source": [
    "# combine death date columns\n",
    "\n",
    "birth_cols = ['death_year', 'death_month', 'death_day']\n",
    "\n",
    "dfPeople = dfPeople.with_column((pl.date(\n",
    "        pl.col(birth_cols[0]),\n",
    "        pl.col(birth_cols[1]),\n",
    "        pl.col(birth_cols[2])\n",
    ")).alias('death_date'))\n",
    "\n",
    "dfPeople = dfPeople.drop(birth_cols)\n",
    "\n",
    "dfPeople.head(25)"
   ],
   "metadata": {
    "collapsed": false
   }
  },
  {
   "cell_type": "code",
   "execution_count": null,
   "outputs": [],
   "source": [
    "# combine birth location columns"
   ],
   "metadata": {
    "collapsed": false
   }
  },
  {
   "cell_type": "code",
   "execution_count": null,
   "outputs": [],
   "source": [
    "# combine death location columns"
   ],
   "metadata": {
    "collapsed": false
   }
  }
 ],
 "metadata": {
  "kernelspec": {
   "display_name": "Python 3",
   "language": "python",
   "name": "python3"
  },
  "language_info": {
   "codemirror_mode": {
    "name": "ipython",
    "version": 2
   },
   "file_extension": ".py",
   "mimetype": "text/x-python",
   "name": "python",
   "nbconvert_exporter": "python",
   "pygments_lexer": "ipython2",
   "version": "2.7.6"
  }
 },
 "nbformat": 4,
 "nbformat_minor": 0
}
