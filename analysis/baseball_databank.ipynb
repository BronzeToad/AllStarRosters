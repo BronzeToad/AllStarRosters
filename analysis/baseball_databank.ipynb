{
 "cells": [
  {
   "cell_type": "markdown",
   "source": [
    "# MLB All-Star Roster Analysis"
   ],
   "metadata": {
    "collapsed": false
   }
  },
  {
   "cell_type": "markdown",
   "source": [
    "Source: https://www.seanlahman.com/baseball-archive/statistics"
   ],
   "metadata": {
    "collapsed": false
   }
  },
  {
   "cell_type": "code",
   "execution_count": 1,
   "outputs": [],
   "source": [
    "import numpy as np\n",
    "# import packages\n",
    "\n",
    "import polars as pl\n",
    "import os\n",
    "import helpers.dataframe_utils as dfUtils\n",
    "import helpers.toad_utils as ToadUtils\n",
    "from models.baseball_databank import BaseballDatabank\n",
    "from helpers.download_helper import DownloadHelper"
   ],
   "metadata": {
    "collapsed": false
   }
  },
  {
   "cell_type": "code",
   "execution_count": 2,
   "outputs": [
    {
     "name": "stdout",
     "output_type": "stream",
     "text": [
      "https://raw.githubusercontent.com/chadwickbureau/baseballdatabank/master\n",
      "/Users/ajp/Documents/Projects/AllStarRosters/data/baseball-databank\n"
     ]
    }
   ],
   "source": [
    "# initialize model\n",
    "\n",
    "Model = BaseballDatabank()\n",
    "\n",
    "print(Model.source_url)\n",
    "print(Model.data_dir)"
   ],
   "metadata": {
    "collapsed": false
   }
  },
  {
   "cell_type": "code",
   "execution_count": null,
   "outputs": [],
   "source": [
    "# download baseball databank data\n",
    "\n",
    "Model.download()"
   ],
   "metadata": {
    "collapsed": false
   }
  },
  {
   "cell_type": "code",
   "execution_count": 46,
   "outputs": [
    {
     "data": {
      "text/plain": "{'player_id': Utf8,\n 'birth_year': Int64,\n 'birth_month': Int64,\n 'birth_day': Int64,\n 'birth_country': Utf8,\n 'birth_state': Utf8,\n 'birth_city': Utf8,\n 'death_year': Int64,\n 'death_month': Int64,\n 'death_day': Int64,\n 'death_country': Utf8,\n 'death_state': Utf8,\n 'death_city': Utf8,\n 'first_name': Utf8,\n 'last_name': Utf8,\n 'given_name': Utf8,\n 'weight': Int64,\n 'height': Int64,\n 'batting_hand': Utf8,\n 'throwing_hand': Utf8,\n 'debut_date': Utf8,\n 'final_game': Utf8,\n 'retro_id': Utf8,\n 'bbref_id': Utf8}"
     },
     "execution_count": 46,
     "metadata": {},
     "output_type": "execute_result"
    }
   ],
   "source": [
    "# get base people dataframe\n",
    "\n",
    "dfPeople = pl.read_csv(os.path.join(Model.data_dir, 'raw', 'People.csv')).rename(Model.config_headers['People'])\n",
    "\n",
    "dfPeople.schema"
   ],
   "metadata": {
    "collapsed": false
   }
  },
  {
   "cell_type": "code",
   "execution_count": 47,
   "outputs": [
    {
     "ename": "NotFoundError",
     "evalue": "playerID",
     "output_type": "error",
     "traceback": [
      "\u001B[0;31m---------------------------------------------------------------------------\u001B[0m",
      "\u001B[0;31mNotFoundError\u001B[0m                             Traceback (most recent call last)",
      "Cell \u001B[0;32mIn[47], line 3\u001B[0m\n\u001B[1;32m      1\u001B[0m \u001B[38;5;66;03m# fix column names\u001B[39;00m\n\u001B[0;32m----> 3\u001B[0m dfPeople \u001B[38;5;241m=\u001B[39m \u001B[43mdfPeople\u001B[49m\u001B[38;5;241;43m.\u001B[39;49m\u001B[43mrename\u001B[49m\u001B[43m(\u001B[49m\u001B[43mModel\u001B[49m\u001B[38;5;241;43m.\u001B[39;49m\u001B[43mconfig_headers\u001B[49m\u001B[43m[\u001B[49m\u001B[38;5;124;43m'\u001B[39;49m\u001B[38;5;124;43mPeople\u001B[39;49m\u001B[38;5;124;43m'\u001B[39;49m\u001B[43m]\u001B[49m\u001B[43m)\u001B[49m\n\u001B[1;32m      4\u001B[0m dfPeople\u001B[38;5;241m.\u001B[39mschema\n",
      "File \u001B[0;32m~/Documents/Projects/AllStarRosters/.venv/lib/python3.10/site-packages/polars/internals/dataframe/frame.py:2558\u001B[0m, in \u001B[0;36mDataFrame.rename\u001B[0;34m(self, mapping)\u001B[0m\n\u001B[1;32m   2531\u001B[0m \u001B[38;5;28;01mdef\u001B[39;00m \u001B[38;5;21mrename\u001B[39m(\u001B[38;5;28mself\u001B[39m: DF, mapping: \u001B[38;5;28mdict\u001B[39m[\u001B[38;5;28mstr\u001B[39m, \u001B[38;5;28mstr\u001B[39m]) \u001B[38;5;241m-\u001B[39m\u001B[38;5;241m>\u001B[39m DF \u001B[38;5;241m|\u001B[39m DataFrame:\n\u001B[1;32m   2532\u001B[0m     \u001B[38;5;124;03m\"\"\"\u001B[39;00m\n\u001B[1;32m   2533\u001B[0m \u001B[38;5;124;03m    Rename column names.\u001B[39;00m\n\u001B[1;32m   2534\u001B[0m \n\u001B[0;32m   (...)\u001B[0m\n\u001B[1;32m   2556\u001B[0m \n\u001B[1;32m   2557\u001B[0m \u001B[38;5;124;03m    \"\"\"\u001B[39;00m\n\u001B[0;32m-> 2558\u001B[0m     \u001B[38;5;28;01mreturn\u001B[39;00m \u001B[38;5;28;43mself\u001B[39;49m\u001B[38;5;241;43m.\u001B[39;49m\u001B[43mlazy\u001B[49m\u001B[43m(\u001B[49m\u001B[43m)\u001B[49m\u001B[38;5;241;43m.\u001B[39;49m\u001B[43mrename\u001B[49m\u001B[43m(\u001B[49m\u001B[43mmapping\u001B[49m\u001B[43m)\u001B[49m\u001B[38;5;241;43m.\u001B[39;49m\u001B[43mcollect\u001B[49m\u001B[43m(\u001B[49m\u001B[43mno_optimization\u001B[49m\u001B[38;5;241;43m=\u001B[39;49m\u001B[38;5;28;43;01mTrue\u001B[39;49;00m\u001B[43m)\u001B[49m\n",
      "File \u001B[0;32m~/Documents/Projects/AllStarRosters/.venv/lib/python3.10/site-packages/polars/utils.py:394\u001B[0m, in \u001B[0;36mdeprecated_alias.<locals>.deco.<locals>.wrapper\u001B[0;34m(*args, **kwargs)\u001B[0m\n\u001B[1;32m    391\u001B[0m \u001B[38;5;129m@functools\u001B[39m\u001B[38;5;241m.\u001B[39mwraps(fn)\n\u001B[1;32m    392\u001B[0m \u001B[38;5;28;01mdef\u001B[39;00m \u001B[38;5;21mwrapper\u001B[39m(\u001B[38;5;241m*\u001B[39margs: P\u001B[38;5;241m.\u001B[39margs, \u001B[38;5;241m*\u001B[39m\u001B[38;5;241m*\u001B[39mkwargs: P\u001B[38;5;241m.\u001B[39mkwargs) \u001B[38;5;241m-\u001B[39m\u001B[38;5;241m>\u001B[39m T:\n\u001B[1;32m    393\u001B[0m     _rename_kwargs(fn\u001B[38;5;241m.\u001B[39m\u001B[38;5;18m__name__\u001B[39m, kwargs, aliases)\n\u001B[0;32m--> 394\u001B[0m     \u001B[38;5;28;01mreturn\u001B[39;00m \u001B[43mfn\u001B[49m\u001B[43m(\u001B[49m\u001B[38;5;241;43m*\u001B[39;49m\u001B[43margs\u001B[49m\u001B[43m,\u001B[49m\u001B[43m \u001B[49m\u001B[38;5;241;43m*\u001B[39;49m\u001B[38;5;241;43m*\u001B[39;49m\u001B[43mkwargs\u001B[49m\u001B[43m)\u001B[49m\n",
      "File \u001B[0;32m~/Documents/Projects/AllStarRosters/.venv/lib/python3.10/site-packages/polars/internals/lazyframe/frame.py:1168\u001B[0m, in \u001B[0;36mLazyFrame.collect\u001B[0;34m(self, type_coercion, predicate_pushdown, projection_pushdown, simplify_expression, no_optimization, slice_pushdown, common_subplan_elimination, streaming)\u001B[0m\n\u001B[1;32m   1157\u001B[0m     common_subplan_elimination \u001B[38;5;241m=\u001B[39m \u001B[38;5;28;01mFalse\u001B[39;00m\n\u001B[1;32m   1159\u001B[0m ldf \u001B[38;5;241m=\u001B[39m \u001B[38;5;28mself\u001B[39m\u001B[38;5;241m.\u001B[39m_ldf\u001B[38;5;241m.\u001B[39moptimization_toggle(\n\u001B[1;32m   1160\u001B[0m     type_coercion,\n\u001B[1;32m   1161\u001B[0m     predicate_pushdown,\n\u001B[0;32m   (...)\u001B[0m\n\u001B[1;32m   1166\u001B[0m     streaming,\n\u001B[1;32m   1167\u001B[0m )\n\u001B[0;32m-> 1168\u001B[0m \u001B[38;5;28;01mreturn\u001B[39;00m pli\u001B[38;5;241m.\u001B[39mwrap_df(\u001B[43mldf\u001B[49m\u001B[38;5;241;43m.\u001B[39;49m\u001B[43mcollect\u001B[49m\u001B[43m(\u001B[49m\u001B[43m)\u001B[49m)\n",
      "\u001B[0;31mNotFoundError\u001B[0m: playerID"
     ]
    }
   ],
   "source": [
    "# fix column names\n",
    "\n",
    "dfPeople = dfPeople.rename(Model.config_headers['People'])\n",
    "dfPeople.schema"
   ],
   "metadata": {
    "collapsed": false
   }
  },
  {
   "cell_type": "code",
   "execution_count": 49,
   "outputs": [
    {
     "ename": "NotFoundError",
     "evalue": "birth_year",
     "output_type": "error",
     "traceback": [
      "\u001B[0;31m---------------------------------------------------------------------------\u001B[0m",
      "\u001B[0;31mNotFoundError\u001B[0m                             Traceback (most recent call last)",
      "Cell \u001B[0;32mIn[49], line 5\u001B[0m\n\u001B[1;32m      1\u001B[0m \u001B[38;5;66;03m# combine birth_date columns\u001B[39;00m\n\u001B[1;32m      3\u001B[0m birth_cols \u001B[38;5;241m=\u001B[39m [\u001B[38;5;124m'\u001B[39m\u001B[38;5;124mbirth_year\u001B[39m\u001B[38;5;124m'\u001B[39m, \u001B[38;5;124m'\u001B[39m\u001B[38;5;124mbirth_month\u001B[39m\u001B[38;5;124m'\u001B[39m, \u001B[38;5;124m'\u001B[39m\u001B[38;5;124mbirth_day\u001B[39m\u001B[38;5;124m'\u001B[39m]\n\u001B[0;32m----> 5\u001B[0m dfPeople \u001B[38;5;241m=\u001B[39m \u001B[43mdfPeople\u001B[49m\u001B[38;5;241;43m.\u001B[39;49m\u001B[43mwith_column\u001B[49m\u001B[43m(\u001B[49m\u001B[43m(\u001B[49m\u001B[43mpl\u001B[49m\u001B[38;5;241;43m.\u001B[39;49m\u001B[43mdate\u001B[49m\u001B[43m(\u001B[49m\n\u001B[1;32m      6\u001B[0m \u001B[43m        \u001B[49m\u001B[43mpl\u001B[49m\u001B[38;5;241;43m.\u001B[39;49m\u001B[43mcol\u001B[49m\u001B[43m(\u001B[49m\u001B[43mbirth_cols\u001B[49m\u001B[43m[\u001B[49m\u001B[38;5;241;43m0\u001B[39;49m\u001B[43m]\u001B[49m\u001B[43m)\u001B[49m\u001B[43m,\u001B[49m\n\u001B[1;32m      7\u001B[0m \u001B[43m        \u001B[49m\u001B[43mpl\u001B[49m\u001B[38;5;241;43m.\u001B[39;49m\u001B[43mcol\u001B[49m\u001B[43m(\u001B[49m\u001B[43mbirth_cols\u001B[49m\u001B[43m[\u001B[49m\u001B[38;5;241;43m1\u001B[39;49m\u001B[43m]\u001B[49m\u001B[43m)\u001B[49m\u001B[43m,\u001B[49m\n\u001B[1;32m      8\u001B[0m \u001B[43m        \u001B[49m\u001B[43mpl\u001B[49m\u001B[38;5;241;43m.\u001B[39;49m\u001B[43mcol\u001B[49m\u001B[43m(\u001B[49m\u001B[43mbirth_cols\u001B[49m\u001B[43m[\u001B[49m\u001B[38;5;241;43m2\u001B[39;49m\u001B[43m]\u001B[49m\u001B[43m)\u001B[49m\n\u001B[1;32m      9\u001B[0m \u001B[43m)\u001B[49m\u001B[43m)\u001B[49m\u001B[38;5;241;43m.\u001B[39;49m\u001B[43malias\u001B[49m\u001B[43m(\u001B[49m\u001B[38;5;124;43m'\u001B[39;49m\u001B[38;5;124;43mbirth_date\u001B[39;49m\u001B[38;5;124;43m'\u001B[39;49m\u001B[43m)\u001B[49m\u001B[43m)\u001B[49m\n\u001B[1;32m     11\u001B[0m dfPeople \u001B[38;5;241m=\u001B[39m dfPeople\u001B[38;5;241m.\u001B[39mdrop(birth_cols)\n\u001B[1;32m     13\u001B[0m dfPeople\u001B[38;5;241m.\u001B[39mhead(\u001B[38;5;241m25\u001B[39m)\n",
      "File \u001B[0;32m~/Documents/Projects/AllStarRosters/.venv/lib/python3.10/site-packages/polars/internals/dataframe/frame.py:4348\u001B[0m, in \u001B[0;36mDataFrame.with_column\u001B[0;34m(self, column)\u001B[0m\n\u001B[1;32m   4302\u001B[0m \u001B[38;5;28;01mdef\u001B[39;00m \u001B[38;5;21mwith_column\u001B[39m(\u001B[38;5;28mself\u001B[39m, column: pli\u001B[38;5;241m.\u001B[39mSeries \u001B[38;5;241m|\u001B[39m pli\u001B[38;5;241m.\u001B[39mExpr) \u001B[38;5;241m-\u001B[39m\u001B[38;5;241m>\u001B[39m DataFrame:\n\u001B[1;32m   4303\u001B[0m     \u001B[38;5;124;03m\"\"\"\u001B[39;00m\n\u001B[1;32m   4304\u001B[0m \u001B[38;5;124;03m    Return a new DataFrame with the column added, if new, or replaced.\u001B[39;00m\n\u001B[1;32m   4305\u001B[0m \n\u001B[0;32m   (...)\u001B[0m\n\u001B[1;32m   4346\u001B[0m \n\u001B[1;32m   4347\u001B[0m \u001B[38;5;124;03m    \"\"\"\u001B[39;00m\n\u001B[0;32m-> 4348\u001B[0m     \u001B[38;5;28;01mreturn\u001B[39;00m \u001B[38;5;28;43mself\u001B[39;49m\u001B[38;5;241;43m.\u001B[39;49m\u001B[43mlazy\u001B[49m\u001B[43m(\u001B[49m\u001B[43m)\u001B[49m\u001B[38;5;241;43m.\u001B[39;49m\u001B[43mwith_column\u001B[49m\u001B[43m(\u001B[49m\u001B[43mcolumn\u001B[49m\u001B[43m)\u001B[49m\u001B[38;5;241;43m.\u001B[39;49m\u001B[43mcollect\u001B[49m\u001B[43m(\u001B[49m\u001B[43mno_optimization\u001B[49m\u001B[38;5;241;43m=\u001B[39;49m\u001B[38;5;28;43;01mTrue\u001B[39;49;00m\u001B[43m)\u001B[49m\n",
      "File \u001B[0;32m~/Documents/Projects/AllStarRosters/.venv/lib/python3.10/site-packages/polars/utils.py:394\u001B[0m, in \u001B[0;36mdeprecated_alias.<locals>.deco.<locals>.wrapper\u001B[0;34m(*args, **kwargs)\u001B[0m\n\u001B[1;32m    391\u001B[0m \u001B[38;5;129m@functools\u001B[39m\u001B[38;5;241m.\u001B[39mwraps(fn)\n\u001B[1;32m    392\u001B[0m \u001B[38;5;28;01mdef\u001B[39;00m \u001B[38;5;21mwrapper\u001B[39m(\u001B[38;5;241m*\u001B[39margs: P\u001B[38;5;241m.\u001B[39margs, \u001B[38;5;241m*\u001B[39m\u001B[38;5;241m*\u001B[39mkwargs: P\u001B[38;5;241m.\u001B[39mkwargs) \u001B[38;5;241m-\u001B[39m\u001B[38;5;241m>\u001B[39m T:\n\u001B[1;32m    393\u001B[0m     _rename_kwargs(fn\u001B[38;5;241m.\u001B[39m\u001B[38;5;18m__name__\u001B[39m, kwargs, aliases)\n\u001B[0;32m--> 394\u001B[0m     \u001B[38;5;28;01mreturn\u001B[39;00m \u001B[43mfn\u001B[49m\u001B[43m(\u001B[49m\u001B[38;5;241;43m*\u001B[39;49m\u001B[43margs\u001B[49m\u001B[43m,\u001B[49m\u001B[43m \u001B[49m\u001B[38;5;241;43m*\u001B[39;49m\u001B[38;5;241;43m*\u001B[39;49m\u001B[43mkwargs\u001B[49m\u001B[43m)\u001B[49m\n",
      "File \u001B[0;32m~/Documents/Projects/AllStarRosters/.venv/lib/python3.10/site-packages/polars/internals/lazyframe/frame.py:1168\u001B[0m, in \u001B[0;36mLazyFrame.collect\u001B[0;34m(self, type_coercion, predicate_pushdown, projection_pushdown, simplify_expression, no_optimization, slice_pushdown, common_subplan_elimination, streaming)\u001B[0m\n\u001B[1;32m   1157\u001B[0m     common_subplan_elimination \u001B[38;5;241m=\u001B[39m \u001B[38;5;28;01mFalse\u001B[39;00m\n\u001B[1;32m   1159\u001B[0m ldf \u001B[38;5;241m=\u001B[39m \u001B[38;5;28mself\u001B[39m\u001B[38;5;241m.\u001B[39m_ldf\u001B[38;5;241m.\u001B[39moptimization_toggle(\n\u001B[1;32m   1160\u001B[0m     type_coercion,\n\u001B[1;32m   1161\u001B[0m     predicate_pushdown,\n\u001B[0;32m   (...)\u001B[0m\n\u001B[1;32m   1166\u001B[0m     streaming,\n\u001B[1;32m   1167\u001B[0m )\n\u001B[0;32m-> 1168\u001B[0m \u001B[38;5;28;01mreturn\u001B[39;00m pli\u001B[38;5;241m.\u001B[39mwrap_df(\u001B[43mldf\u001B[49m\u001B[38;5;241;43m.\u001B[39;49m\u001B[43mcollect\u001B[49m\u001B[43m(\u001B[49m\u001B[43m)\u001B[49m)\n",
      "\u001B[0;31mNotFoundError\u001B[0m: birth_year"
     ]
    }
   ],
   "source": [
    "# combine birth date columns\n",
    "\n",
    "birth_cols = ['birth_year', 'birth_month', 'birth_day']\n",
    "\n",
    "dfPeople = dfPeople.with_column((pl.date(\n",
    "        pl.col(birth_cols[0]),\n",
    "        pl.col(birth_cols[1]),\n",
    "        pl.col(birth_cols[2])\n",
    ")).alias('birth_date'))\n",
    "\n",
    "dfPeople = dfPeople.drop(birth_cols)\n",
    "\n",
    "dfPeople.head(25)"
   ],
   "metadata": {
    "collapsed": false
   }
  },
  {
   "cell_type": "code",
   "execution_count": 51,
   "outputs": [
    {
     "data": {
      "text/plain": "shape: (25, 20)\n┌─────────┬────────────┬───────────┬──────────┬─────┬──────────┬─────────────┬──────────┬──────────┐\n│ player_ ┆ birth_coun ┆ birth_sta ┆ birth_ci ┆ ... ┆ retro_id ┆ bbref_id    ┆ birth_da ┆ death_da │\n│ id      ┆ try        ┆ te        ┆ ty       ┆     ┆ ---      ┆ ---         ┆ te       ┆ te       │\n│ ---     ┆ ---        ┆ ---       ┆ ---      ┆     ┆ str      ┆ str         ┆ ---      ┆ ---      │\n│ str     ┆ str        ┆ str       ┆ str      ┆     ┆          ┆             ┆ date     ┆ date     │\n╞═════════╪════════════╪═══════════╪══════════╪═════╪══════════╪═════════════╪══════════╪══════════╡\n│ aardsda ┆ USA        ┆ CO        ┆ Denver   ┆ ... ┆ aardd001 ┆ aardsda01   ┆ 1981-12- ┆ null     │\n│ 01      ┆            ┆           ┆          ┆     ┆          ┆             ┆ 27       ┆          │\n│ aaronha ┆ USA        ┆ AL        ┆ Mobile   ┆ ... ┆ aaroh101 ┆ aaronha01   ┆ 1934-02- ┆ 2021-01- │\n│ 01      ┆            ┆           ┆          ┆     ┆          ┆             ┆ 05       ┆ 22       │\n│ aaronto ┆ USA        ┆ AL        ┆ Mobile   ┆ ... ┆ aarot101 ┆ aaronto01   ┆ 1939-08- ┆ 1984-08- │\n│ 01      ┆            ┆           ┆          ┆     ┆          ┆             ┆ 05       ┆ 16       │\n│ aasedo0 ┆ USA        ┆ CA        ┆ Orange   ┆ ... ┆ aased001 ┆ aasedo01    ┆ 1954-09- ┆ null     │\n│ 1       ┆            ┆           ┆          ┆     ┆          ┆             ┆ 08       ┆          │\n│ ...     ┆ ...        ┆ ...       ┆ ...      ┆ ... ┆ ...      ┆ ...         ┆ ...      ┆ ...      │\n│ abercda ┆ USA        ┆ OK        ┆ Fort     ┆ ... ┆ aberd101 ┆ abercda01   ┆ 1850-01- ┆ 1939-11- │\n│ 01      ┆            ┆           ┆ Towson   ┆     ┆          ┆             ┆ 02       ┆ 11       │\n│ abercre ┆ USA        ┆ GA        ┆ Columbus ┆ ... ┆ aberr001 ┆ abercre01   ┆ 1980-07- ┆ null     │\n│ 01      ┆            ┆           ┆          ┆     ┆          ┆             ┆ 15       ┆          │\n│ abernbi ┆ USA        ┆ CA        ┆ Torrance ┆ ... ┆ aberb101 ┆ abernbi01   ┆ 1929-01- ┆ 2006-02- │\n│ 01      ┆            ┆           ┆          ┆     ┆          ┆             ┆ 30       ┆ 19       │\n│ abernbr ┆ USA        ┆ GA        ┆ Atlanta  ┆ ... ┆ aberb001 ┆ abernbr01   ┆ 1977-09- ┆ null     │\n│ 01      ┆            ┆           ┆          ┆     ┆          ┆             ┆ 23       ┆          │\n└─────────┴────────────┴───────────┴──────────┴─────┴──────────┴─────────────┴──────────┴──────────┘",
      "text/html": "<div>\n<style scoped>\n    .dataframe tbody tr th:only-of-type {\n        vertical-align: middle;\n    }\n\n    .dataframe tbody tr th {\n        vertical-align: top;\n    }\n\n    .dataframe thead th {\n        text-align: right;\n    }\n\n    .dataframe td {\n        white-space: pre;\n    }\n\n    .dataframe td {\n        padding-top: 0;\n    }\n\n    .dataframe td {\n        padding-bottom: 0;\n    }\n\n    .dataframe td {\n        line-height: 95%;\n    }\n</style>\n<table border=\"1\" class=\"dataframe\">\n<small>shape: (25, 20)</small>\n<thead>\n<tr>\n<th>\nplayer_id\n</th>\n<th>\nbirth_country\n</th>\n<th>\nbirth_state\n</th>\n<th>\nbirth_city\n</th>\n<th>\ndeath_country\n</th>\n<th>\ndeath_state\n</th>\n<th>\ndeath_city\n</th>\n<th>\nfirst_name\n</th>\n<th>\nlast_name\n</th>\n<th>\ngiven_name\n</th>\n<th>\nweight\n</th>\n<th>\nheight\n</th>\n<th>\nbatting_hand\n</th>\n<th>\nthrowing_hand\n</th>\n<th>\ndebut_date\n</th>\n<th>\nfinal_game\n</th>\n<th>\nretro_id\n</th>\n<th>\nbbref_id\n</th>\n<th>\nbirth_date\n</th>\n<th>\ndeath_date\n</th>\n</tr>\n<tr>\n<td>\nstr\n</td>\n<td>\nstr\n</td>\n<td>\nstr\n</td>\n<td>\nstr\n</td>\n<td>\nstr\n</td>\n<td>\nstr\n</td>\n<td>\nstr\n</td>\n<td>\nstr\n</td>\n<td>\nstr\n</td>\n<td>\nstr\n</td>\n<td>\ni64\n</td>\n<td>\ni64\n</td>\n<td>\nstr\n</td>\n<td>\nstr\n</td>\n<td>\nstr\n</td>\n<td>\nstr\n</td>\n<td>\nstr\n</td>\n<td>\nstr\n</td>\n<td>\ndate\n</td>\n<td>\ndate\n</td>\n</tr>\n</thead>\n<tbody>\n<tr>\n<td>\n&quot;aardsda01&quot;\n</td>\n<td>\n&quot;USA&quot;\n</td>\n<td>\n&quot;CO&quot;\n</td>\n<td>\n&quot;Denver&quot;\n</td>\n<td>\nnull\n</td>\n<td>\nnull\n</td>\n<td>\nnull\n</td>\n<td>\n&quot;David&quot;\n</td>\n<td>\n&quot;Aardsma&quot;\n</td>\n<td>\n&quot;David Allan&quot;\n</td>\n<td>\n215\n</td>\n<td>\n75\n</td>\n<td>\n&quot;R&quot;\n</td>\n<td>\n&quot;R&quot;\n</td>\n<td>\n&quot;2004-04-06&quot;\n</td>\n<td>\n&quot;2015-08-23&quot;\n</td>\n<td>\n&quot;aardd001&quot;\n</td>\n<td>\n&quot;aardsda01&quot;\n</td>\n<td>\n1981-12-27\n</td>\n<td>\nnull\n</td>\n</tr>\n<tr>\n<td>\n&quot;aaronha01&quot;\n</td>\n<td>\n&quot;USA&quot;\n</td>\n<td>\n&quot;AL&quot;\n</td>\n<td>\n&quot;Mobile&quot;\n</td>\n<td>\n&quot;USA&quot;\n</td>\n<td>\n&quot;GA&quot;\n</td>\n<td>\n&quot;Atlanta&quot;\n</td>\n<td>\n&quot;Hank&quot;\n</td>\n<td>\n&quot;Aaron&quot;\n</td>\n<td>\n&quot;Henry Louis&quot;\n</td>\n<td>\n180\n</td>\n<td>\n72\n</td>\n<td>\n&quot;R&quot;\n</td>\n<td>\n&quot;R&quot;\n</td>\n<td>\n&quot;1954-04-13&quot;\n</td>\n<td>\n&quot;1976-10-03&quot;\n</td>\n<td>\n&quot;aaroh101&quot;\n</td>\n<td>\n&quot;aaronha01&quot;\n</td>\n<td>\n1934-02-05\n</td>\n<td>\n2021-01-22\n</td>\n</tr>\n<tr>\n<td>\n&quot;aaronto01&quot;\n</td>\n<td>\n&quot;USA&quot;\n</td>\n<td>\n&quot;AL&quot;\n</td>\n<td>\n&quot;Mobile&quot;\n</td>\n<td>\n&quot;USA&quot;\n</td>\n<td>\n&quot;GA&quot;\n</td>\n<td>\n&quot;Atlanta&quot;\n</td>\n<td>\n&quot;Tommie&quot;\n</td>\n<td>\n&quot;Aaron&quot;\n</td>\n<td>\n&quot;Tommie Lee&quot;\n</td>\n<td>\n190\n</td>\n<td>\n75\n</td>\n<td>\n&quot;R&quot;\n</td>\n<td>\n&quot;R&quot;\n</td>\n<td>\n&quot;1962-04-10&quot;\n</td>\n<td>\n&quot;1971-09-26&quot;\n</td>\n<td>\n&quot;aarot101&quot;\n</td>\n<td>\n&quot;aaronto01&quot;\n</td>\n<td>\n1939-08-05\n</td>\n<td>\n1984-08-16\n</td>\n</tr>\n<tr>\n<td>\n&quot;aasedo01&quot;\n</td>\n<td>\n&quot;USA&quot;\n</td>\n<td>\n&quot;CA&quot;\n</td>\n<td>\n&quot;Orange&quot;\n</td>\n<td>\nnull\n</td>\n<td>\nnull\n</td>\n<td>\nnull\n</td>\n<td>\n&quot;Don&quot;\n</td>\n<td>\n&quot;Aase&quot;\n</td>\n<td>\n&quot;Donald William...\n</td>\n<td>\n190\n</td>\n<td>\n75\n</td>\n<td>\n&quot;R&quot;\n</td>\n<td>\n&quot;R&quot;\n</td>\n<td>\n&quot;1977-07-26&quot;\n</td>\n<td>\n&quot;1990-10-03&quot;\n</td>\n<td>\n&quot;aased001&quot;\n</td>\n<td>\n&quot;aasedo01&quot;\n</td>\n<td>\n1954-09-08\n</td>\n<td>\nnull\n</td>\n</tr>\n<tr>\n<td>\n&quot;abadan01&quot;\n</td>\n<td>\n&quot;USA&quot;\n</td>\n<td>\n&quot;FL&quot;\n</td>\n<td>\n&quot;Palm Beach&quot;\n</td>\n<td>\nnull\n</td>\n<td>\nnull\n</td>\n<td>\nnull\n</td>\n<td>\n&quot;Andy&quot;\n</td>\n<td>\n&quot;Abad&quot;\n</td>\n<td>\n&quot;Fausto Andres&quot;\n</td>\n<td>\n184\n</td>\n<td>\n73\n</td>\n<td>\n&quot;L&quot;\n</td>\n<td>\n&quot;L&quot;\n</td>\n<td>\n&quot;2001-09-10&quot;\n</td>\n<td>\n&quot;2006-04-13&quot;\n</td>\n<td>\n&quot;abada001&quot;\n</td>\n<td>\n&quot;abadan01&quot;\n</td>\n<td>\n1972-08-25\n</td>\n<td>\nnull\n</td>\n</tr>\n<tr>\n<td>\n&quot;abadfe01&quot;\n</td>\n<td>\n&quot;D.R.&quot;\n</td>\n<td>\n&quot;La Romana&quot;\n</td>\n<td>\n&quot;La Romana&quot;\n</td>\n<td>\nnull\n</td>\n<td>\nnull\n</td>\n<td>\nnull\n</td>\n<td>\n&quot;Fernando&quot;\n</td>\n<td>\n&quot;Abad&quot;\n</td>\n<td>\n&quot;Fernando Anton...\n</td>\n<td>\n235\n</td>\n<td>\n74\n</td>\n<td>\n&quot;L&quot;\n</td>\n<td>\n&quot;L&quot;\n</td>\n<td>\n&quot;2010-07-28&quot;\n</td>\n<td>\n&quot;2021-10-01&quot;\n</td>\n<td>\n&quot;abadf001&quot;\n</td>\n<td>\n&quot;abadfe01&quot;\n</td>\n<td>\n1985-12-17\n</td>\n<td>\nnull\n</td>\n</tr>\n<tr>\n<td>\n&quot;abadijo01&quot;\n</td>\n<td>\n&quot;USA&quot;\n</td>\n<td>\n&quot;PA&quot;\n</td>\n<td>\n&quot;Philadelphia&quot;\n</td>\n<td>\n&quot;USA&quot;\n</td>\n<td>\n&quot;NJ&quot;\n</td>\n<td>\n&quot;Pemberton&quot;\n</td>\n<td>\n&quot;John&quot;\n</td>\n<td>\n&quot;Abadie&quot;\n</td>\n<td>\n&quot;John W.&quot;\n</td>\n<td>\n192\n</td>\n<td>\n72\n</td>\n<td>\n&quot;R&quot;\n</td>\n<td>\n&quot;R&quot;\n</td>\n<td>\n&quot;1875-04-26&quot;\n</td>\n<td>\n&quot;1875-06-10&quot;\n</td>\n<td>\n&quot;abadj101&quot;\n</td>\n<td>\n&quot;abadijo01&quot;\n</td>\n<td>\n1850-11-04\n</td>\n<td>\n1905-05-17\n</td>\n</tr>\n<tr>\n<td>\n&quot;abbated01&quot;\n</td>\n<td>\n&quot;USA&quot;\n</td>\n<td>\n&quot;PA&quot;\n</td>\n<td>\n&quot;Latrobe&quot;\n</td>\n<td>\n&quot;USA&quot;\n</td>\n<td>\n&quot;FL&quot;\n</td>\n<td>\n&quot;Fort Lauderdal...\n</td>\n<td>\n&quot;Ed&quot;\n</td>\n<td>\n&quot;Abbaticchio&quot;\n</td>\n<td>\n&quot;Edward James&quot;\n</td>\n<td>\n170\n</td>\n<td>\n71\n</td>\n<td>\n&quot;R&quot;\n</td>\n<td>\n&quot;R&quot;\n</td>\n<td>\n&quot;1897-09-04&quot;\n</td>\n<td>\n&quot;1910-09-15&quot;\n</td>\n<td>\n&quot;abbae101&quot;\n</td>\n<td>\n&quot;abbated01&quot;\n</td>\n<td>\n1877-04-15\n</td>\n<td>\n1957-01-06\n</td>\n</tr>\n<tr>\n<td>\n&quot;abbeybe01&quot;\n</td>\n<td>\n&quot;USA&quot;\n</td>\n<td>\n&quot;VT&quot;\n</td>\n<td>\n&quot;Essex&quot;\n</td>\n<td>\n&quot;USA&quot;\n</td>\n<td>\n&quot;VT&quot;\n</td>\n<td>\n&quot;Colchester&quot;\n</td>\n<td>\n&quot;Bert&quot;\n</td>\n<td>\n&quot;Abbey&quot;\n</td>\n<td>\n&quot;Bert Wood&quot;\n</td>\n<td>\n175\n</td>\n<td>\n71\n</td>\n<td>\n&quot;R&quot;\n</td>\n<td>\n&quot;R&quot;\n</td>\n<td>\n&quot;1892-06-14&quot;\n</td>\n<td>\n&quot;1896-09-23&quot;\n</td>\n<td>\n&quot;abbeb101&quot;\n</td>\n<td>\n&quot;abbeybe01&quot;\n</td>\n<td>\n1869-11-11\n</td>\n<td>\n1962-06-11\n</td>\n</tr>\n<tr>\n<td>\n&quot;abbeych01&quot;\n</td>\n<td>\n&quot;USA&quot;\n</td>\n<td>\n&quot;NE&quot;\n</td>\n<td>\n&quot;Falls City&quot;\n</td>\n<td>\n&quot;USA&quot;\n</td>\n<td>\n&quot;CA&quot;\n</td>\n<td>\n&quot;San Francisco&quot;\n</td>\n<td>\n&quot;Charlie&quot;\n</td>\n<td>\n&quot;Abbey&quot;\n</td>\n<td>\n&quot;Charles S.&quot;\n</td>\n<td>\n169\n</td>\n<td>\n68\n</td>\n<td>\n&quot;L&quot;\n</td>\n<td>\n&quot;L&quot;\n</td>\n<td>\n&quot;1893-08-16&quot;\n</td>\n<td>\n&quot;1897-08-19&quot;\n</td>\n<td>\n&quot;abbec101&quot;\n</td>\n<td>\n&quot;abbeych01&quot;\n</td>\n<td>\n1866-10-14\n</td>\n<td>\n1926-04-27\n</td>\n</tr>\n<tr>\n<td>\n&quot;abbotco01&quot;\n</td>\n<td>\n&quot;USA&quot;\n</td>\n<td>\n&quot;CA&quot;\n</td>\n<td>\n&quot;San Diego&quot;\n</td>\n<td>\nnull\n</td>\n<td>\nnull\n</td>\n<td>\nnull\n</td>\n<td>\n&quot;Cory&quot;\n</td>\n<td>\n&quot;Abbott&quot;\n</td>\n<td>\n&quot;Cory James&quot;\n</td>\n<td>\n220\n</td>\n<td>\n74\n</td>\n<td>\n&quot;R&quot;\n</td>\n<td>\n&quot;R&quot;\n</td>\n<td>\n&quot;2021-06-05&quot;\n</td>\n<td>\n&quot;2022-10-04&quot;\n</td>\n<td>\n&quot;abboc001&quot;\n</td>\n<td>\n&quot;abbotco01&quot;\n</td>\n<td>\n1995-09-20\n</td>\n<td>\nnull\n</td>\n</tr>\n<tr>\n<td>\n&quot;abbotda01&quot;\n</td>\n<td>\n&quot;USA&quot;\n</td>\n<td>\n&quot;OH&quot;\n</td>\n<td>\n&quot;Portage&quot;\n</td>\n<td>\n&quot;USA&quot;\n</td>\n<td>\n&quot;MI&quot;\n</td>\n<td>\n&quot;Ottawa Lake&quot;\n</td>\n<td>\n&quot;Dan&quot;\n</td>\n<td>\n&quot;Abbott&quot;\n</td>\n<td>\n&quot;Leander Frankl...\n</td>\n<td>\n190\n</td>\n<td>\n71\n</td>\n<td>\n&quot;R&quot;\n</td>\n<td>\n&quot;R&quot;\n</td>\n<td>\n&quot;1890-04-19&quot;\n</td>\n<td>\n&quot;1890-05-23&quot;\n</td>\n<td>\n&quot;abbod101&quot;\n</td>\n<td>\n&quot;abbotda01&quot;\n</td>\n<td>\n1862-03-16\n</td>\n<td>\n1930-02-13\n</td>\n</tr>\n<tr>\n<td>\n&quot;abbotfr01&quot;\n</td>\n<td>\n&quot;USA&quot;\n</td>\n<td>\n&quot;OH&quot;\n</td>\n<td>\n&quot;Versailles&quot;\n</td>\n<td>\n&quot;USA&quot;\n</td>\n<td>\n&quot;CA&quot;\n</td>\n<td>\n&quot;Los Angeles&quot;\n</td>\n<td>\n&quot;Fred&quot;\n</td>\n<td>\n&quot;Abbott&quot;\n</td>\n<td>\n&quot;Harry Frederic...\n</td>\n<td>\n180\n</td>\n<td>\n70\n</td>\n<td>\n&quot;R&quot;\n</td>\n<td>\n&quot;R&quot;\n</td>\n<td>\n&quot;1903-04-25&quot;\n</td>\n<td>\n&quot;1905-09-20&quot;\n</td>\n<td>\n&quot;abbof101&quot;\n</td>\n<td>\n&quot;abbotfr01&quot;\n</td>\n<td>\n1874-10-22\n</td>\n<td>\n1935-06-11\n</td>\n</tr>\n<tr>\n<td>\n&quot;abbotgl01&quot;\n</td>\n<td>\n&quot;USA&quot;\n</td>\n<td>\n&quot;AR&quot;\n</td>\n<td>\n&quot;Little Rock&quot;\n</td>\n<td>\nnull\n</td>\n<td>\nnull\n</td>\n<td>\nnull\n</td>\n<td>\n&quot;Glenn&quot;\n</td>\n<td>\n&quot;Abbott&quot;\n</td>\n<td>\n&quot;William Glenn&quot;\n</td>\n<td>\n200\n</td>\n<td>\n78\n</td>\n<td>\n&quot;R&quot;\n</td>\n<td>\n&quot;R&quot;\n</td>\n<td>\n&quot;1973-07-29&quot;\n</td>\n<td>\n&quot;1984-08-08&quot;\n</td>\n<td>\n&quot;abbog001&quot;\n</td>\n<td>\n&quot;abbotgl01&quot;\n</td>\n<td>\n1951-02-16\n</td>\n<td>\nnull\n</td>\n</tr>\n<tr>\n<td>\n&quot;abbotje01&quot;\n</td>\n<td>\n&quot;USA&quot;\n</td>\n<td>\n&quot;GA&quot;\n</td>\n<td>\n&quot;Atlanta&quot;\n</td>\n<td>\nnull\n</td>\n<td>\nnull\n</td>\n<td>\nnull\n</td>\n<td>\n&quot;Jeff&quot;\n</td>\n<td>\n&quot;Abbott&quot;\n</td>\n<td>\n&quot;Jeffrey Willia...\n</td>\n<td>\n190\n</td>\n<td>\n74\n</td>\n<td>\n&quot;R&quot;\n</td>\n<td>\n&quot;L&quot;\n</td>\n<td>\n&quot;1997-06-10&quot;\n</td>\n<td>\n&quot;2001-09-29&quot;\n</td>\n<td>\n&quot;abboj002&quot;\n</td>\n<td>\n&quot;abbotje01&quot;\n</td>\n<td>\n1972-08-17\n</td>\n<td>\nnull\n</td>\n</tr>\n<tr>\n<td>\n&quot;abbotji01&quot;\n</td>\n<td>\n&quot;USA&quot;\n</td>\n<td>\n&quot;MI&quot;\n</td>\n<td>\n&quot;Flint&quot;\n</td>\n<td>\nnull\n</td>\n<td>\nnull\n</td>\n<td>\nnull\n</td>\n<td>\n&quot;Jim&quot;\n</td>\n<td>\n&quot;Abbott&quot;\n</td>\n<td>\n&quot;James Anthony&quot;\n</td>\n<td>\n200\n</td>\n<td>\n75\n</td>\n<td>\n&quot;L&quot;\n</td>\n<td>\n&quot;L&quot;\n</td>\n<td>\n&quot;1989-04-08&quot;\n</td>\n<td>\n&quot;1999-07-21&quot;\n</td>\n<td>\n&quot;abboj001&quot;\n</td>\n<td>\n&quot;abbotji01&quot;\n</td>\n<td>\n1967-09-19\n</td>\n<td>\nnull\n</td>\n</tr>\n<tr>\n<td>\n&quot;abbotku01&quot;\n</td>\n<td>\n&quot;USA&quot;\n</td>\n<td>\n&quot;OH&quot;\n</td>\n<td>\n&quot;Zanesville&quot;\n</td>\n<td>\nnull\n</td>\n<td>\nnull\n</td>\n<td>\nnull\n</td>\n<td>\n&quot;Kurt&quot;\n</td>\n<td>\n&quot;Abbott&quot;\n</td>\n<td>\n&quot;Kurt Thomas&quot;\n</td>\n<td>\n180\n</td>\n<td>\n71\n</td>\n<td>\n&quot;R&quot;\n</td>\n<td>\n&quot;R&quot;\n</td>\n<td>\n&quot;1993-09-07&quot;\n</td>\n<td>\n&quot;2001-04-13&quot;\n</td>\n<td>\n&quot;abbok002&quot;\n</td>\n<td>\n&quot;abbotku01&quot;\n</td>\n<td>\n1969-06-02\n</td>\n<td>\nnull\n</td>\n</tr>\n<tr>\n<td>\n&quot;abbotky01&quot;\n</td>\n<td>\n&quot;USA&quot;\n</td>\n<td>\n&quot;MA&quot;\n</td>\n<td>\n&quot;Newburyport&quot;\n</td>\n<td>\nnull\n</td>\n<td>\nnull\n</td>\n<td>\nnull\n</td>\n<td>\n&quot;Kyle&quot;\n</td>\n<td>\n&quot;Abbott&quot;\n</td>\n<td>\n&quot;Lawrence Kyle&quot;\n</td>\n<td>\n200\n</td>\n<td>\n76\n</td>\n<td>\n&quot;L&quot;\n</td>\n<td>\n&quot;L&quot;\n</td>\n<td>\n&quot;1991-09-10&quot;\n</td>\n<td>\n&quot;1996-08-24&quot;\n</td>\n<td>\n&quot;abbok001&quot;\n</td>\n<td>\n&quot;abbotky01&quot;\n</td>\n<td>\n1968-02-18\n</td>\n<td>\nnull\n</td>\n</tr>\n<tr>\n<td>\n&quot;abbotod01&quot;\n</td>\n<td>\n&quot;USA&quot;\n</td>\n<td>\n&quot;PA&quot;\n</td>\n<td>\n&quot;New Eagle&quot;\n</td>\n<td>\n&quot;USA&quot;\n</td>\n<td>\n&quot;DC&quot;\n</td>\n<td>\n&quot;Washington&quot;\n</td>\n<td>\n&quot;Ody&quot;\n</td>\n<td>\n&quot;Abbott&quot;\n</td>\n<td>\n&quot;Ody Cleon&quot;\n</td>\n<td>\n165\n</td>\n<td>\n69\n</td>\n<td>\n&quot;L&quot;\n</td>\n<td>\n&quot;R&quot;\n</td>\n<td>\n&quot;1910-09-10&quot;\n</td>\n<td>\n&quot;1910-10-15&quot;\n</td>\n<td>\n&quot;abboo101&quot;\n</td>\n<td>\n&quot;abbotod01&quot;\n</td>\n<td>\n1886-09-05\n</td>\n<td>\n1933-04-13\n</td>\n</tr>\n<tr>\n<td>\n&quot;abbotpa01&quot;\n</td>\n<td>\n&quot;USA&quot;\n</td>\n<td>\n&quot;CA&quot;\n</td>\n<td>\n&quot;Van Nuys&quot;\n</td>\n<td>\nnull\n</td>\n<td>\nnull\n</td>\n<td>\nnull\n</td>\n<td>\n&quot;Paul&quot;\n</td>\n<td>\n&quot;Abbott&quot;\n</td>\n<td>\n&quot;Paul David&quot;\n</td>\n<td>\n185\n</td>\n<td>\n75\n</td>\n<td>\n&quot;R&quot;\n</td>\n<td>\n&quot;R&quot;\n</td>\n<td>\n&quot;1990-08-21&quot;\n</td>\n<td>\n&quot;2004-08-07&quot;\n</td>\n<td>\n&quot;abbop001&quot;\n</td>\n<td>\n&quot;abbotpa01&quot;\n</td>\n<td>\n1967-09-15\n</td>\n<td>\nnull\n</td>\n</tr>\n<tr>\n<td>\n&quot;aberal01&quot;\n</td>\n<td>\n&quot;USA&quot;\n</td>\n<td>\n&quot;OH&quot;\n</td>\n<td>\n&quot;Cleveland&quot;\n</td>\n<td>\n&quot;USA&quot;\n</td>\n<td>\n&quot;OH&quot;\n</td>\n<td>\n&quot;Garfield Heigh...\n</td>\n<td>\n&quot;Al&quot;\n</td>\n<td>\n&quot;Aber&quot;\n</td>\n<td>\n&quot;Albert Julius&quot;\n</td>\n<td>\n195\n</td>\n<td>\n74\n</td>\n<td>\n&quot;L&quot;\n</td>\n<td>\n&quot;L&quot;\n</td>\n<td>\n&quot;1950-09-15&quot;\n</td>\n<td>\n&quot;1957-09-11&quot;\n</td>\n<td>\n&quot;abera101&quot;\n</td>\n<td>\n&quot;aberal01&quot;\n</td>\n<td>\n1927-07-31\n</td>\n<td>\n1993-05-20\n</td>\n</tr>\n<tr>\n<td>\n&quot;abercda01&quot;\n</td>\n<td>\n&quot;USA&quot;\n</td>\n<td>\n&quot;OK&quot;\n</td>\n<td>\n&quot;Fort Towson&quot;\n</td>\n<td>\n&quot;USA&quot;\n</td>\n<td>\n&quot;PA&quot;\n</td>\n<td>\n&quot;Philadelphia&quot;\n</td>\n<td>\n&quot;Frank&quot;\n</td>\n<td>\n&quot;Abercrombie&quot;\n</td>\n<td>\n&quot;Francis Patter...\n</td>\n<td>\nnull\n</td>\n<td>\nnull\n</td>\n<td>\nnull\n</td>\n<td>\nnull\n</td>\n<td>\n&quot;1871-10-21&quot;\n</td>\n<td>\n&quot;1871-10-21&quot;\n</td>\n<td>\n&quot;aberd101&quot;\n</td>\n<td>\n&quot;abercda01&quot;\n</td>\n<td>\n1850-01-02\n</td>\n<td>\n1939-11-11\n</td>\n</tr>\n<tr>\n<td>\n&quot;abercre01&quot;\n</td>\n<td>\n&quot;USA&quot;\n</td>\n<td>\n&quot;GA&quot;\n</td>\n<td>\n&quot;Columbus&quot;\n</td>\n<td>\nnull\n</td>\n<td>\nnull\n</td>\n<td>\nnull\n</td>\n<td>\n&quot;Reggie&quot;\n</td>\n<td>\n&quot;Abercrombie&quot;\n</td>\n<td>\n&quot;Reginald Damas...\n</td>\n<td>\n215\n</td>\n<td>\n75\n</td>\n<td>\n&quot;R&quot;\n</td>\n<td>\n&quot;R&quot;\n</td>\n<td>\n&quot;2006-04-04&quot;\n</td>\n<td>\n&quot;2008-09-28&quot;\n</td>\n<td>\n&quot;aberr001&quot;\n</td>\n<td>\n&quot;abercre01&quot;\n</td>\n<td>\n1980-07-15\n</td>\n<td>\nnull\n</td>\n</tr>\n<tr>\n<td>\n&quot;abernbi01&quot;\n</td>\n<td>\n&quot;USA&quot;\n</td>\n<td>\n&quot;CA&quot;\n</td>\n<td>\n&quot;Torrance&quot;\n</td>\n<td>\n&quot;USA&quot;\n</td>\n<td>\n&quot;CA&quot;\n</td>\n<td>\n&quot;Yucaipa&quot;\n</td>\n<td>\n&quot;Bill&quot;\n</td>\n<td>\n&quot;Abernathie&quot;\n</td>\n<td>\n&quot;William Edward...\n</td>\n<td>\n190\n</td>\n<td>\n70\n</td>\n<td>\n&quot;R&quot;\n</td>\n<td>\n&quot;R&quot;\n</td>\n<td>\n&quot;1952-09-27&quot;\n</td>\n<td>\n&quot;1952-09-27&quot;\n</td>\n<td>\n&quot;aberb101&quot;\n</td>\n<td>\n&quot;abernbi01&quot;\n</td>\n<td>\n1929-01-30\n</td>\n<td>\n2006-02-19\n</td>\n</tr>\n<tr>\n<td>\n&quot;abernbr01&quot;\n</td>\n<td>\n&quot;USA&quot;\n</td>\n<td>\n&quot;GA&quot;\n</td>\n<td>\n&quot;Atlanta&quot;\n</td>\n<td>\nnull\n</td>\n<td>\nnull\n</td>\n<td>\nnull\n</td>\n<td>\n&quot;Brent&quot;\n</td>\n<td>\n&quot;Abernathy&quot;\n</td>\n<td>\n&quot;Michael Brent&quot;\n</td>\n<td>\n185\n</td>\n<td>\n73\n</td>\n<td>\n&quot;R&quot;\n</td>\n<td>\n&quot;R&quot;\n</td>\n<td>\n&quot;2001-06-25&quot;\n</td>\n<td>\n&quot;2005-09-29&quot;\n</td>\n<td>\n&quot;aberb001&quot;\n</td>\n<td>\n&quot;abernbr01&quot;\n</td>\n<td>\n1977-09-23\n</td>\n<td>\nnull\n</td>\n</tr>\n</tbody>\n</table>\n</div>"
     },
     "execution_count": 51,
     "metadata": {},
     "output_type": "execute_result"
    }
   ],
   "source": [
    "# combine death date columns\n",
    "\n",
    "birth_cols = ['death_year', 'death_month', 'death_day']\n",
    "\n",
    "dfPeople = dfPeople.with_column((pl.date(\n",
    "        pl.col(birth_cols[0]),\n",
    "        pl.col(birth_cols[1]),\n",
    "        pl.col(birth_cols[2])\n",
    ")).alias('death_date'))\n",
    "\n",
    "dfPeople = dfPeople.drop(birth_cols)\n",
    "\n",
    "dfPeople.head(25)"
   ],
   "metadata": {
    "collapsed": false
   }
  },
  {
   "cell_type": "code",
   "execution_count": 52,
   "outputs": [],
   "source": [
    "# combine birth location columns"
   ],
   "metadata": {
    "collapsed": false
   }
  },
  {
   "cell_type": "code",
   "execution_count": null,
   "outputs": [],
   "source": [
    "# combine death location columns"
   ],
   "metadata": {
    "collapsed": false
   }
  }
 ],
 "metadata": {
  "kernelspec": {
   "display_name": "Python 3",
   "language": "python",
   "name": "python3"
  },
  "language_info": {
   "codemirror_mode": {
    "name": "ipython",
    "version": 2
   },
   "file_extension": ".py",
   "mimetype": "text/x-python",
   "name": "python",
   "nbconvert_exporter": "python",
   "pygments_lexer": "ipython2",
   "version": "2.7.6"
  }
 },
 "nbformat": 4,
 "nbformat_minor": 0
}
